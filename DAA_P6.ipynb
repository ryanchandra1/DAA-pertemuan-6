{
  "nbformat": 4,
  "nbformat_minor": 0,
  "metadata": {
    "colab": {
      "provenance": [],
      "collapsed_sections": [],
      "authorship_tag": "ABX9TyMsJ+TYmaD/FHxzWouWAZ3w",
      "include_colab_link": true
    },
    "kernelspec": {
      "name": "python3",
      "display_name": "Python 3"
    },
    "language_info": {
      "name": "python"
    }
  },
  "cells": [
    {
      "cell_type": "markdown",
      "metadata": {
        "id": "view-in-github",
        "colab_type": "text"
      },
      "source": [
        "<a href=\"https://colab.research.google.com/github/ryanchandra1/DAA-pertemuan-6/blob/main/DAA_P6.ipynb\" target=\"_parent\"><img src=\"https://colab.research.google.com/assets/colab-badge.svg\" alt=\"Open In Colab\"/></a>"
      ]
    },
    {
      "cell_type": "code",
      "execution_count": null,
      "metadata": {
        "colab": {
          "base_uri": "https://localhost:8080/"
        },
        "id": "zgnDZev6oPZB",
        "outputId": "d784a50d-40ec-4f95-df04-ad67aa7dd63d"
      },
      "outputs": [
        {
          "output_type": "stream",
          "name": "stdout",
          "text": [
            "How many terms?10\n",
            "Fibonacci sequence : \n",
            "0\n",
            "1\n",
            "1\n",
            "2\n",
            "3\n",
            "5\n",
            "8\n",
            "13\n",
            "21\n",
            "34\n"
          ]
        }
      ],
      "source": [
        "#first two terms\n",
        "nterms = int(input(\"How many terms?\"))\n",
        "n1, n2 = 0, 1\n",
        "count = 0\n",
        "\n",
        "#check if the number of terms is valid \n",
        "if nterms <= 0:\n",
        "  print(\"Please enter positive integer\")\n",
        "elif nterms == 1:\n",
        "  print(\"Fibonacci sequence upto\", nterms,\":\")\n",
        "  printf(n1)\n",
        "else:\n",
        "  print(\"Fibonacci sequence : \")\n",
        "  while count < nterms:\n",
        "    print(n1)\n",
        "    nth = n1 + n2\n",
        "    #update values\n",
        "    n1 = n2 \n",
        "    n2 = nth \n",
        "    count +=1"
      ]
    },
    {
      "cell_type": "code",
      "source": [
        "#Fibbonaci dengen while \n",
        "nterms = int(input(\"How many terms?\"))\n",
        "n1, n2 = 0,1\n",
        "count = 0\n",
        "\n",
        "if nterms <= 0:\n",
        "  print(\"Please enter a positive integer\")\n",
        "elif nterms == 1:\n",
        "  print(\"Fibonacci sequence upto\", nterms,\":\")\n",
        "  print(n1)\n",
        "else:\n",
        "  print(\"Fibonacci sequence : \")\n",
        "  while count < nterms:\n",
        "    print(n1)\n",
        "    nth = n1 + n2\n",
        "    #update values\n",
        "    n1 = n2 \n",
        "    n2 = nth \n",
        "    count +=1"
      ],
      "metadata": {
        "colab": {
          "base_uri": "https://localhost:8080/"
        },
        "id": "ihKARUYxqpz2",
        "outputId": "8497ad67-c4ca-47f7-e2c2-24fbc79129d7"
      },
      "execution_count": null,
      "outputs": [
        {
          "output_type": "stream",
          "name": "stdout",
          "text": [
            "How many terms?30\n",
            "Fibonacci sequence : \n",
            "0\n",
            "1\n",
            "1\n",
            "2\n",
            "3\n",
            "5\n",
            "8\n",
            "13\n",
            "21\n",
            "34\n",
            "55\n",
            "89\n",
            "144\n",
            "233\n",
            "377\n",
            "610\n",
            "987\n",
            "1597\n",
            "2584\n",
            "4181\n",
            "6765\n",
            "10946\n",
            "17711\n",
            "28657\n",
            "46368\n",
            "75025\n",
            "121393\n",
            "196418\n",
            "317811\n",
            "514229\n"
          ]
        }
      ]
    },
    {
      "cell_type": "code",
      "source": [
        "#Fibonacci dengan rekursi \n",
        "\n",
        "nterms = int(input(\"How many terms?\"))\n",
        "def recur_fibo(n):\n",
        "  if n <= 1:\n",
        "      return n  \n",
        "  else:\n",
        "    return(recur_fibo(n-1) + recur_fibo(n-2))\n",
        "\n",
        "# cek apakah nilai n terms valid \n",
        "if nterms <= 0:\n",
        "  print(\"Please input positive integer\")\n",
        "else: \n",
        "  print(\"Fibonacci sequence:\")\n",
        "  for i in range(nterms):\n",
        "    print(recur_fibo(i))"
      ],
      "metadata": {
        "colab": {
          "base_uri": "https://localhost:8080/"
        },
        "id": "EMrEN8pnrc7a",
        "outputId": "d3fd082e-56d1-45ab-81c0-21f1ac0418bb"
      },
      "execution_count": null,
      "outputs": [
        {
          "output_type": "stream",
          "name": "stdout",
          "text": [
            "How many terms?1\n",
            "Fibonacci sequence:\n",
            "0\n"
          ]
        }
      ]
    },
    {
      "cell_type": "code",
      "source": [
        "import random \n",
        "from itertools import permutations \n",
        "alltours = permutations \n",
        "\n",
        "def distance_tour(aTour):\n",
        "  return sum(distance_points(aTour[i-1],aTour[i])\n",
        "      for i in range(len(aTour)))\n",
        "  \n",
        "aCity = complex\n",
        "\n",
        "def distance_points(first,second):\n",
        "  return abs(first - second)\n",
        "\n",
        "def generate_cities(number_of_cities):\n",
        "  seed=111;width=500;height=300\n",
        "  random.seed((number_of_cities,seed))\n",
        "  return frozenset(aCity(random.randint(1,width), random.randint(1,height))\n",
        "      for c in range(number_of_cities))"
      ],
      "metadata": {
        "id": "3WD96UP_zoC0"
      },
      "execution_count": null,
      "outputs": []
    },
    {
      "cell_type": "code",
      "source": [
        "%matplotlib inline\n",
        "import matplotlib.pyplot as plt\n",
        "\n",
        "def visualize_tour(tour, style='bo-'):\n",
        "  if len(tour) > 1000: plt.figure(figsize=(15,10))\n",
        "  start = tour[0:1]\n",
        "  visualize_segment(tour + start, style)\n",
        "  visualize_segment(start,'rD')\n",
        "def visualize_segment (segment,style='bo-'):\n",
        "        plt.plot([X(c) for c in segment], [Y(c) for c in segment], style, clip_on=False)\n",
        "        plt.axis('scaled')\n",
        "        plt.axis('off')\n",
        "\n",
        "def X(city): \"X axis\"; return city.real\n",
        "\n",
        "def Y(city): \"Y axis\"; return city.imag"
      ],
      "metadata": {
        "id": "NVbpqrPh1t9q"
      },
      "execution_count": null,
      "outputs": []
    },
    {
      "cell_type": "code",
      "source": [
        "from time import process_time\n",
        "from collections import Counter\n",
        "def tsp(algorithm, cities):\n",
        "    t0 = process_time()\n",
        "    tour = algorithm(cities)\n",
        "    t1 = process_time()\n",
        "    assert Counter(tour) == Counter(cities)\n",
        "    visualize_tour(tour)\n",
        "    print(\"{}:{} cities => tour length {:.0f}(in {:.3f} sec)\".format(name(algorithm), len(tour), distance_tour(tour), t1-t0))\n",
        "    \n",
        "\n",
        "def name(algorithm): return algorithm.__name__.replace('_tsp','')"
      ],
      "metadata": {
        "id": "4UpBI1eQ3R01"
      },
      "execution_count": null,
      "outputs": []
    },
    {
      "cell_type": "code",
      "source": [
        "def greedy_algorithm(cities,start=None):\n",
        "  C = start or first(cities)\n",
        "  tour = [C]\n",
        "  unvisited = set(cities - {C})\n",
        "  while unvisited:\n",
        "      C = nearest_neighbor(C, unvisited)\n",
        "      tour.append(C)\n",
        "      unvisited.remove(C)\n",
        "  return tour\n",
        "\n",
        "def first(collection): return next(iter(collection))\n",
        "\n",
        "def nearest_neighbor(A,cities):\n",
        "  return min(cities,key=lambda C:distance_points(C,A))"
      ],
      "metadata": {
        "id": "RjKEhao96G6S"
      },
      "execution_count": null,
      "outputs": []
    },
    {
      "cell_type": "code",
      "source": [
        "tsp(greedy_algorithm,generate_cities(10))"
      ],
      "metadata": {
        "colab": {
          "base_uri": "https://localhost:8080/",
          "height": 265
        },
        "id": "kXqZ01yy7MK9",
        "outputId": "d7c9a566-0866-4023-e8ca-e2de3241c862"
      },
      "execution_count": null,
      "outputs": [
        {
          "output_type": "stream",
          "name": "stdout",
          "text": [
            "greedy_algorithm:10 cities => tour length 1348(in 0.000 sec)\n"
          ]
        },
        {
          "output_type": "display_data",
          "data": {
            "text/plain": [
              "<Figure size 432x288 with 1 Axes>"
            ],
            "image/png": "[encoded data removed]"
          },
          "metadata": {
            "needs_background": "light"
          }
        }
      ]
    },
    {
      "cell_type": "code",
      "source": [
        "tsp(greedy_algorithm,generate_cities(50000))"
      ],
      "metadata": {
        "colab": {
          "base_uri": "https://localhost:8080/",
          "height": 549
        },
        "id": "4porpsAl--Lg",
        "outputId": "a2e2ca37-3747-4c51-88a3-b4960ffcae19"
      },
      "execution_count": null,
      "outputs": [
        {
          "output_type": "stream",
          "name": "stdout",
          "text": [
            "greedy_algorithm:42533 cities => tour length 75586(in 271.121 sec)\n"
          ]
        },
        {
          "output_type": "display_data",
          "data": {
            "text/plain": [
              "<Figure size 1080x720 with 1 Axes>"
            ],
            "image/png": "[encoded data removed]"
          },
          "metadata": {
            "needs_background": "light"
          }
        }
      ]
    },
    {
      "cell_type": "code",
      "source": [
        "string = 'HUFFMAN'\n",
        "\n",
        "# Creating tree nodes \n",
        "class NodeTree(object):\n",
        "\n",
        "  def __init__(self, left=None, right=None):\n",
        "    self.left  = left\n",
        "    self.right = right\n",
        "\n",
        "  def children(self):\n",
        "    return (self.left, self.right)\n",
        "\n",
        "  def nodes(self):\n",
        "    return (self.left, self.right)\n",
        "\n",
        "  def __str__(self):\n",
        "    return '%s_%s' % (self.left, self.right)"
      ],
      "metadata": {
        "id": "C1FKu8iKEeza"
      },
      "execution_count": null,
      "outputs": []
    },
    {
      "cell_type": "code",
      "source": [
        "# Main function implementing huffman coding \n",
        "\n",
        "def huffman_code_tree(node,left=True,binString=''):\n",
        "  if type(node) is str:\n",
        "    return{node:binString}\n",
        "  (l,r) = node.children()\n",
        "  d = dict()\n",
        "  d.update(huffman_code_tree(l,True,binString+'0'))\n",
        "  d.update(huffman_code_tree(r,True,binString+'1'))\n",
        "  return d "
      ],
      "metadata": {
        "id": "McJtkk4rIH-B"
      },
      "execution_count": null,
      "outputs": []
    },
    {
      "cell_type": "code",
      "source": [
        "# Calculating frequency\n",
        "freq = {}\n",
        "for c in string:\n",
        "  if c in freq:\n",
        "    freq[c] += 1\n",
        "  else:\n",
        "    freq[c] = 1\n",
        "\n",
        "freq = sorted(freq.items(), key=lambda x: x[1], reverse=True)\n",
        "\n",
        "nodes = freq\n",
        "\n",
        "while len(nodes)>1:\n",
        "  (key1,c1) = nodes[-1]\n",
        "  (key2,c2) = nodes[-2]\n",
        "  nodes = nodes[:-2]\n",
        "  node = NodeTree(key1,key2)\n",
        "  nodes.append((node, c1 + c2))\n",
        "\n",
        "  nodes = sorted(nodes, key=lambda x: x[1], reverse=True)\n",
        "\n",
        "huffmanCode = huffman_code_tree(nodes[0][0])\n",
        "\n",
        "print(' Char | Huffman code')\n",
        "print('---------------------')\n",
        "for (char,frequency) in freq:\n",
        "  print('%-4r |%12s' % (char, huffmanCode[char]))"
      ],
      "metadata": {
        "colab": {
          "base_uri": "https://localhost:8080/"
        },
        "id": "7KYN9spoJKMH",
        "outputId": "b6ab368c-918e-4c41-95a5-a82486f41089"
      },
      "execution_count": null,
      "outputs": [
        {
          "output_type": "stream",
          "name": "stdout",
          "text": [
            " Char | Huffman code\n",
            "---------------------\n",
            "'F'  |          11\n",
            "'H'  |          00\n",
            "'U'  |         011\n",
            "'M'  |         010\n",
            "'A'  |         101\n",
            "'N'  |         100\n"
          ]
        }
      ]
    },
    {
      "cell_type": "code",
      "source": [],
      "metadata": {
        "id": "risIR-AXSCns"
      },
      "execution_count": null,
      "outputs": []
    }
  ]
}